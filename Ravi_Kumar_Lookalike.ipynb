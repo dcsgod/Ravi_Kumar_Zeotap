{
 "cells": [
  {
   "cell_type": "markdown",
   "metadata": {},
   "source": [
    "## LookAlike"
   ]
  },
  {
   "cell_type": "code",
   "execution_count": 1,
   "metadata": {},
   "outputs": [],
   "source": [
    "import pandas as pd\n",
    "from sklearn.metrics.pairwise import cosine_similarity\n",
    "from sklearn.preprocessing import StandardScaler"
   ]
  },
  {
   "cell_type": "code",
   "execution_count": 2,
   "metadata": {},
   "outputs": [],
   "source": [
    "df1 = pd.read_csv('Customers.csv')\n",
    "df2 = pd.read_csv('Transactions.csv')\n",
    "df3 = pd.read_csv('Products.csv')"
   ]
  },
  {
   "cell_type": "code",
   "execution_count": 6,
   "metadata": {},
   "outputs": [],
   "source": [
    "customer_transactions = pd.merge(df2, df1, on='CustomerID')\n",
    "customer_data = customer_transactions.groupby('CustomerID').agg(\n",
    "    total_spending=('TotalValue', 'sum'),\n",
    "    num_transactions=('TotalValue', 'count'),\n",
    "    product_preferences=('ProductID', 'nunique')\n",
    ").reset_index()"
   ]
  },
  {
   "cell_type": "code",
   "execution_count": 8,
   "metadata": {},
   "outputs": [],
   "source": [
    "product_data = pd.merge(customer_transactions, df3, on='ProductID')\n",
    "product_category_data = product_data.groupby('CustomerID')['Category'].value_counts().unstack(fill_value=0)"
   ]
  },
  {
   "cell_type": "code",
   "execution_count": 9,
   "metadata": {},
   "outputs": [],
   "source": [
    "combined_data = pd.concat([customer_data, product_category_data], axis=1).fillna(0)\n"
   ]
  },
  {
   "cell_type": "code",
   "execution_count": 12,
   "metadata": {},
   "outputs": [],
   "source": [
    "numeric_data = combined_data.select_dtypes(include=[float, int])\n",
    "\n",
    "scaler = StandardScaler()\n",
    "normalized_data = pd.DataFrame(scaler.fit_transform(numeric_data), columns=numeric_data.columns)\n",
    "\n",
    "\n",
    "\n"
   ]
  },
  {
   "cell_type": "code",
   "execution_count": 13,
   "metadata": {},
   "outputs": [],
   "source": [
    "cosine_sim = cosine_similarity(normalized_data)\n"
   ]
  },
  {
   "cell_type": "code",
   "execution_count": 16,
   "metadata": {},
   "outputs": [],
   "source": [
    "lookalike_map = {}\n",
    "\n",
    "for customer_id in df1['CustomerID'][:20]:\n",
    "    customer_idx = df1[df1['CustomerID'] == customer_id].index[0]\n",
    "    similarity_scores = cosine_sim[customer_idx]\n",
    "    similar_customers_idx = similarity_scores.argsort()[-4:-1]  # Top 3 lookalikes (excluding the customer itself)\n",
    "    \n",
    "    similar_customers = df1.iloc[similar_customers_idx]\n",
    "    scores = similarity_scores[similar_customers_idx]\n",
    "    \n",
    "    lookalike_map[customer_id] = [(similar_customers.iloc[i]['CustomerID'], scores[i]) for i in range(3)]"
   ]
  },
  {
   "cell_type": "code",
   "execution_count": 17,
   "metadata": {},
   "outputs": [
    {
     "name": "stdout",
     "output_type": "stream",
     "text": [
      "Task Finished Boss!!!!!!!!.\n"
     ]
    }
   ],
   "source": [
    "lookalike_df = pd.DataFrame(lookalike_map.items(), columns=['CustomerID', 'Lookalikes'])\n",
    "lookalike_df['Lookalikes'] = lookalike_df['Lookalikes'].apply(lambda x: ', '.join([f'{cust_id}: {score:.2f}' for cust_id, score in x]))\n",
    "\n",
    "lookalike_df.to_csv('Ravi_Kumar_Lookalike.csv', index=False)\n",
    "\n",
    "print(\"Task Finished Boss!!!!!!!!.\")"
   ]
  }
 ],
 "metadata": {
  "kernelspec": {
   "display_name": "base",
   "language": "python",
   "name": "python3"
  },
  "language_info": {
   "codemirror_mode": {
    "name": "ipython",
    "version": 3
   },
   "file_extension": ".py",
   "mimetype": "text/x-python",
   "name": "python",
   "nbconvert_exporter": "python",
   "pygments_lexer": "ipython3",
   "version": "3.11.7"
  }
 },
 "nbformat": 4,
 "nbformat_minor": 2
}
